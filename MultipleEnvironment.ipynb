{
 "cells": [
  {
   "cell_type": "markdown",
   "metadata": {},
   "source": [
    "About this script:\n",
    "\n",
    "Created by: Andrew Parkin with a lot of help and support from Phil Baranyai \n",
    "\n",
    "Work might have prevented you from helping me finish it but you're still #SpatialAF\n",
    "\n",
    "This script will find items in your AGOL & Enterpris/Portal enviroments and see how they relate to one another. \n",
    "\n",
    "If you want to see how your items relate to one another through a single envrironment see the Dependency Single Environment notebook. "
   ]
  },
  {
   "cell_type": "code",
   "execution_count": null,
   "metadata": {},
   "outputs": [],
   "source": [
    "from arcgis.gis import GIS\n",
    "import pandas as pd\n",
    "import os"
   ]
  },
  {
   "cell_type": "code",
   "execution_count": null,
   "metadata": {},
   "outputs": [],
   "source": [
    "# Setup Date/time variables\n",
    "date = datetime.date.today().strftime(\"%Y%m%d\")\n",
    "Time = time.strftime(\"%H%M\", time.localtime())"
   ]
  },
  {
   "cell_type": "markdown",
   "metadata": {},
   "source": [
    "The cell below is the only spot that requires user input once inputed the script will run as is just need to check back in on it as it runs."
   ]
  },
  {
   "cell_type": "code",
   "execution_count": null,
   "metadata": {},
   "outputs": [],
   "source": [
    "# AGOL credentials \n",
    "agolsite = input('Please copy and paste your Agol website here: ')\n",
    "agolusername = input('Please copy and paste your Agol Username here: ')\n",
    "agolpassword = input('Please copy and paste your Agol Password here: ')\n",
    "\n",
    "# Portal credentials \n",
    "portalsite = input('Please copy and paste your Portal website here: ')\n",
    "portalusername = input('Please copy and paste your Portal Username here: ')\n",
    "portalpassword = input('Please copy and paste your Portal Password here: ')"
   ]
  },
  {
   "cell_type": "code",
   "execution_count": null,
   "metadata": {},
   "outputs": [],
   "source": [
    "print(\"Logging in..\")\n",
    "\n",
    "# Connections make sure you only have 1 turned on.\n",
    "\n",
    "# AGOL Connection\n",
    "agol = GIS(agolsite, agolusername, agolpassword)\n",
    "\n",
    "# Portal Connection\n",
    "\n",
    "portal = GIS(portalsite, portalusername, portalpassword)\n",
    "\n",
    "print('Logged in!')"
   ]
  },
  {
   "cell_type": "code",
   "execution_count": null,
   "metadata": {},
   "outputs": [],
   "source": [
    "# Setup export path to user's documents folder\n",
    "userprofile = os.environ['USERPROFILE']\n",
    "ReportDirectory = userprofile+\"\\\\Documents\\\\WebGISDependenciesReports\"\n",
    "reportdirExists = os.path.exists(ReportDirectory)\n",
    "if not reportdirExists:\n",
    "    os.makedirs(ReportDirectory)\n",
    "    print(ReportDirectory+\" was not found, so it was created\")\n",
    "ExcelOutput = os.path.join(ReportDirectory,'Dependancies_report_'+str(date)+'.xlsx')"
   ]
  },
  {
   "cell_type": "code",
   "execution_count": null,
   "metadata": {},
   "outputs": [],
   "source": [
    "# Variables\n",
    "ItemList = ['Administrative Report', 'Apache Parquet', 'CAD Drawing', 'CSV', 'Color Set', 'Content Category Set',\n",
    "            'Document Link', 'Earth Configuration', 'Esri Classifier Definition', 'Export Package',\n",
    "            'Feature Collection', 'Feature Collection Template', 'Feature Service', 'File Geodatabase', 'GeoJson',\n",
    "            'GML', 'GeoPackage', 'Geocoding Service', 'Geodata Service', 'Geometry Service', 'Geoprocessing Service',\n",
    "            'Globe Service', 'Image', 'KML', 'KML CollectionMap Service', 'Microsoft Excel', 'Microsoft Powerpoint',\n",
    "            'Microsoft Word', 'Network Analysis Service', 'OGCFeatureServer', 'Oriented Imagery Catalog', 'PDF',\n",
    "            'Relational Database Connection', 'Relational Database Connection', 'Report Template', 'SQLite Geodatabase',\n",
    "            'Scene Service', 'Shapefile', 'Statistical Data Collection', 'StoryMap Theme', 'Style',\n",
    "            'Symbol SetImage Service', 'Vector Tile Service', 'Visio Document', 'WFS', 'WMS', 'WMTS',\n",
    "            'Workflow Manager Service', 'iWork Keynote', 'iWork Numbers', 'iWork Pages']\n",
    "\n",
    "AppList = ['360 VR Experience', 'AppBuilder Extension', 'AppBuilder Widget Package', 'CityEngine Web Scene',\n",
    "           'Code Attachment', 'Dashboard', 'Deep Learning Studio Project', 'Esri Classification Schema',\n",
    "           'Excalibur Imagery Project', 'Experience Builder Widget', 'Experience Builder Widget Package', 'Form',\n",
    "           'GeoBIM Application', 'GeoBIM Project', 'Hub Event', 'Hub Initiative', 'Hub Initiative Template', 'Hub Page',\n",
    "           'Hub Project', 'Hub Site Application', 'Insights Data Engineering Model',\n",
    "           'Insights Data Engineering Workbook', 'Insights Model', 'Insights Page', 'Insights Theme',\n",
    "           'Insights Workbook', 'Insights Workbook Package', 'Investigation', 'Mission', 'Mobile Application',\n",
    "           'Native Application', 'Native Application Installer', 'Notebook', 'Notebook Code Snippet Library',\n",
    "           'Operation View', 'Operations Dashboard Add In', 'Operations Dashboard Extension', 'Ortho Mapping Project',\n",
    "           'Ortho Mapping Template', 'Pro Map', 'StoryMap', 'Web AppBuilder WidgetSolution', 'Web Experience',\n",
    "           'Web Experience Template', 'Web Map', 'Web Mapping Application', 'Web Scene', 'Workforce Project']\n",
    "\n",
    "# Agol Variables\n",
    "Agol_Items = []\n",
    "Agol_Apps = []\n",
    "# Portal Variables\n",
    "Portal_Items = []\n",
    "Portal_Apps = []\n",
    "\n",
    "# List to store all my Function Results\n",
    "FuncResults = []\n"
   ]
  },
  {
   "cell_type": "code",
   "execution_count": null,
   "metadata": {},
   "outputs": [],
   "source": [
    "# ***Defining function that will gather the information we need. ***\n",
    "def my_func(connection, connection_type, item, webapps):\n",
    "    # For some reason script won't pull in certain Urls so try and except added to prevent script breaking.\n",
    "    # If url cant be pulled it will still collect as much as the item info added.\n",
    "    try:\n",
    "        # Item info\n",
    "        item_info = item\n",
    "        find_id = item_info.id\n",
    "        find_url = connection.content.get(find_id).url\n",
    "        item_title = item_info.title\n",
    "        item_owner = item_info.owner\n",
    "        item_type = item_info.type\n",
    "\n",
    "        # Collects Web maps then Return subset of map IDs which contain the service URL we're looking for\n",
    "        webmaps = connection.content.search('', item_type='Web Map', max_items=-1)\n",
    "        matches = [m.id for m in webmaps if str(m.get_data()).find(find_url) > -1]\n",
    "\n",
    "        # Create empty list to populate with results\n",
    "        app_list = []\n",
    "\n",
    "        # Check each web app for matches\n",
    "        for w in webapps:\n",
    "\n",
    "            try:\n",
    "                # Get the JSON as a string\n",
    "                wdata = str(w.get_data())\n",
    "\n",
    "                criteria = [\n",
    "                    wdata.find(find_url) > -1,  # Check if URL is directly referenced\n",
    "                    any([wdata.find(m) > -1 for m in matches])  # Check if any matching maps are in app\n",
    "                ]\n",
    "\n",
    "                # If layer is referenced directly or indirectly, append app to list\n",
    "                if any(criteria):\n",
    "                    app_list.append(w)\n",
    "\n",
    "            # Some apps don't have data, so we'll just skip them if they throw a TypeError\n",
    "            except:\n",
    "                continue\n",
    "\n",
    "        if len(app_list) > 0:\n",
    "            for a in app_list:\n",
    "                FuncResults.append({'Environment': connection_type, 'Item Name': item_title, 'Item Type': item_type,\n",
    "                                    'Item ID': find_id, 'Item Url': find_url, 'Item Owner': item_owner,\n",
    "                                    'Application Name': a.title, 'Application Type': a.type, 'Application ID': a.id,\n",
    "                                    'Application Owner': a.owner})\n",
    "\n",
    "        if len(app_list) == 0:\n",
    "            FuncResults.append({'Environment': connection_type, 'Item Name': item_title, 'Item Type': item_type,\n",
    "                                'Item ID': find_id, 'Item Url': find_url, 'Item Owner': item_owner,\n",
    "                                'Application Name': 'N/A', 'Application Type': 'N/A', 'Application ID': 'N/A',\n",
    "                                'Application Owner': 'N/A'})\n",
    "\n",
    "    except:\n",
    "        print(\"Exception found gathering baseline item info.\")\n",
    "        item_info = item\n",
    "        find_id = item_info.id\n",
    "        item_title = item_info.title\n",
    "        item_owner = item_info.owner\n",
    "        item_type = item_info.type\n",
    "\n",
    "        FuncResults.append({'Environment': connection_type, 'Item Name': item_title, 'Item Type': item_type,\n",
    "                            'Item ID': find_id, 'Item Url': 'Cant find Url', 'Item Owner': item_owner,\n",
    "                            'Application Name': 'N/A', 'Application Type': 'N/A', 'Application ID': 'N/A',\n",
    "                            'Application Owner': 'N/A'})\n"
   ]
  },
  {
   "cell_type": "code",
   "execution_count": null,
   "metadata": {},
   "outputs": [],
   "source": [
    "# Grabbing feature class, Image service, Map Service, WFS, WMS Information\n",
    "print('Collecting Item Data...')\n",
    "\n",
    "# Combining all Item types into a single list\n",
    "\n",
    "for i in ItemList:\n",
    "    ATemp = agol.content.search('', item_type=i, max_items=-1)\n",
    "    PTemp = portal.content.search('', item_type=i, max_items=-1)\n",
    "    if len(ATemp) > 0:\n",
    "        for at in ATemp:\n",
    "            Agol_Items.append(at)\n",
    "    if len(PTemp) > 0:\n",
    "        for pt in PTemp:\n",
    "            Portal_Items.append(pt)\n",
    "            \n",
    "print('You have ' + str(len(Agol_Items)) + 'items in your AGOL. ' + 'You have ' + str(len(Portal_Items)) + 'items in your Portal/Enterprise. ')\n",
    "\n",
    "print('Collected Item Data!')"
   ]
  },
  {
   "cell_type": "code",
   "execution_count": null,
   "metadata": {},
   "outputs": [],
   "source": [
    "print('Collecting Application Data..')\n",
    "\n",
    "# Combining all Apps into a single list\n",
    "\n",
    "for al in AppList:\n",
    "    ATemp = agol.content.search('', item_type=al, max_items=-1)\n",
    "    PTemp = portal.content.search('', item_type=al, max_items=-1)\n",
    "    if len(ATemp) > 0:\n",
    "        for at in ATemp:\n",
    "            Agol_Apps.append(at)\n",
    "    if len(PTemp) > 0:\n",
    "        for pt in PTemp:\n",
    "            Portal_Apps.append(pt)\n",
    " \n",
    "print('You have ' + str(len(Agol_Apps)) + 'items in your AGOL. ' + 'You have ' + str(len(Portal_Apps)) + 'items in your Portal/Enterprise. ')\n",
    "\n",
    "print('Collected Application Data!')"
   ]
  },
  {
   "cell_type": "code",
   "execution_count": null,
   "metadata": {},
   "outputs": [],
   "source": [
    "# Running function through a loop for AGOL\n",
    "print('Starting AGOL Items')\n",
    "for i in Agol_Items:\n",
    "    print('Working on ' + str(i.title))\n",
    "    my_func(agol, 'Agol', i, Agol_Apps)\n",
    "print('Finished AGOL Items')"
   ]
  },
  {
   "cell_type": "code",
   "execution_count": null,
   "metadata": {},
   "outputs": [],
   "source": [
    "# Running function through a loop for Portal\n",
    "print('Starting Portal Items')\n",
    "for i in Portal_Items:\n",
    "    print('Working on ' + str(i.title))\n",
    "    my_func(portal, 'Portal', i, Portal_Apps)\n",
    "print('Finished Portal Items')"
   ]
  },
  {
   "cell_type": "code",
   "execution_count": null,
   "metadata": {},
   "outputs": [],
   "source": [
    "# Creating dataframe\n",
    "print('Creating Data Frame')\n",
    "\n",
    "df = pd.DataFrame(FuncResults)\n",
    "\n",
    "# Sorting by Url with Portal items on top of AGOL\n",
    "df1 = df.sort_values(by=['Item Url', 'Environment'], ascending=[True, False])\n",
    "# Reindexing\n",
    "df2 = df1.reset_index(drop=True)\n",
    "\n",
    "# Creating Mask that will put a line of separation between each Item\n",
    "mask = df2['Item Url'].ne(df2['Item Url'].shift(-1))\n",
    "df3 = pd.DataFrame('', index=mask.index[mask] + .5, columns=df.columns)\n",
    "\n",
    "# Creating the Final Dataframe.\n",
    "new_df = pd.concat([df2, df3]).sort_index().reset_index(drop=True).iloc[:-1]\n",
    "print('Finished Data Frame')\n",
    "# Exporting Dataframe to excel\n",
    "print('Exporting to Excel')\n",
    "new_df.to_excel(ExcelOutput, index=False)\n",
    "print('Finished')"
   ]
  }
 ],
 "metadata": {
  "kernelspec": {
   "display_name": "ArcGISPro",
   "language": "Python",
   "name": "python3"
  },
  "language_info": {
   "file_extension": ".py",
   "name": "python",
   "version": "3"
  }
 },
 "nbformat": 4,
 "nbformat_minor": 2
}
