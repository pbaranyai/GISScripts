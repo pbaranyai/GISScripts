{
 "cells": [
  {
   "cell_type": "markdown",
   "metadata": {},
   "source": [
    "About this script:\n",
    "\n",
    "Created by: Andrew Parkin with a lot of help and support from Phil Baranyai \n",
    "\n",
    "Work might have prevented you from helping me finish it but you're still #SpatialAF\n",
    "\n",
    "This script will find items in your enviroment of choice (AGOL or Enterpris/Portal) and see how they relate to one another. \n",
    "\n",
    "If you want to see how your items relate to one another through your entire online envrironment see the Dependencies Dual Environment notebook"
   ]
  },
  {
   "cell_type": "code",
   "execution_count": null,
   "metadata": {},
   "outputs": [],
   "source": [
    "from arcgis.gis import GIS\n",
    "import pandas as pd\n",
    "import os"
   ]
  },
  {
   "cell_type": "code",
   "execution_count": null,
   "metadata": {},
   "outputs": [],
   "source": [
    "# Setup Date/time variables\n",
    "date = datetime.date.today().strftime(\"%Y%m%d\")\n",
    "Time = time.strftime(\"%H%M\", time.localtime())"
   ]
  },
  {
   "cell_type": "markdown",
   "metadata": {},
   "source": [
    "The cell below is the only spot that requires user input once inputed the script will run as is just need to check back in on it as it runs."
   ]
  },
  {
   "cell_type": "code",
   "execution_count": null,
   "metadata": {},
   "outputs": [],
   "source": [
    "site = input('Please copy and paste your Agol or Portal website here: ')\n",
    "username = input('Please copy and paste your Username here: ')\n",
    "password = input('Please copy and paste your Password here: ')\n",
    "\n",
    "print('Connecting to your enviroment..')\n",
    "connection = GIS(site, username, password)\n",
    "print('Connected to your enviroment..')"
   ]
  },
  {
   "cell_type": "code",
   "execution_count": null,
   "metadata": {},
   "outputs": [],
   "source": [
    "# Setup export path to user's documents folder\n",
    "userprofile = os.environ['USERPROFILE']\n",
    "ReportDirectory = userprofile+\"\\\\Documents\\\\WebGISDependenciesReports\"\n",
    "reportdirExists = os.path.exists(ReportDirectory)\n",
    "if not reportdirExists:\n",
    "    os.makedirs(ReportDirectory)\n",
    "    print(ReportDirectory+\" was not found, so it was created\")\n",
    "ExcelOutput = os.path.join(ReportDirectory,'Dependencies_report_'+str(date)+'.xlsx')"
   ]
  },
  {
   "cell_type": "code",
   "execution_count": null,
   "metadata": {},
   "outputs": [],
   "source": [
    "# Variables\n",
    "ItemList = ['Administrative Report', 'Apache Parquet', 'CAD Drawing', 'CSV', 'Color Set', 'Content Category Set',\n",
    "            'Document Link', 'Earth Configuration', 'Esri Classifier Definition', 'Export Package',\n",
    "            'Feature Collection', 'Feature Collection Template', 'Feature Service', 'File Geodatabase', 'GeoJson',\n",
    "            'GML', 'GeoPackage', 'Geocoding Service', 'Geodata Service', 'Geometry Service', 'Geoprocessing Service',\n",
    "            'Globe Service', 'Image', 'KML', 'KML CollectionMap Service', 'Microsoft Excel', 'Microsoft Powerpoint',\n",
    "            'Microsoft Word', 'Network Analysis Service', 'OGCFeatureServer', 'Oriented Imagery Catalog', 'PDF',\n",
    "            'Relational Database Connection', 'Relational Database Connection', 'Report Template', 'SQLite Geodatabase',\n",
    "            'Scene Service', 'Service Definition', 'Shapefile', 'Statistical Data Collection', 'StoryMap Theme',\n",
    "            'Style', 'Symbol SetImage Service', 'Vector Tile Service', 'Visio Document', 'WFS', 'WMS', 'WMTS',\n",
    "            'Workflow Manager Service', 'iWork Keynote', 'iWork Numbers', 'iWork Pages']\n",
    "\n",
    "AppList = ['360 VR Experience', 'AppBuilder Extension', 'AppBuilder Widget Package', 'CityEngine Web Scene',\n",
    "           'Code Attachment', 'Dashboard', 'Deep Learning Studio Project', 'Esri Classification Schema',\n",
    "           'Excalibur Imagery Project', 'Experience Builder Widget', 'Experience Builder Widget Package', 'Form',\n",
    "           'GeoBIM Application', 'GeoBIM Project', 'Hub Event', 'Hub Initiative', 'Hub Initiative Template', 'Hub Page',\n",
    "           'Hub Project', 'Hub Site Application', 'Insights Data Engineering Model',\n",
    "           'Insights Data Engineering Workbook', 'Insights Model', 'Insights Page', 'Insights Theme',\n",
    "           'Insights Workbook', 'Insights Workbook Package', 'Investigation', 'Mission', 'Mobile Application',\n",
    "           'Native Application', 'Native Application Installer', 'Notebook', 'Notebook Code Snippet Library',\n",
    "           'Operation View', 'Operations Dashboard Add In', 'Operations Dashboard Extension', 'Ortho Mapping Project',\n",
    "           'Ortho Mapping Template', 'Pro Map', 'StoryMap', 'Web AppBuilder WidgetSolution', 'Web Experience',\n",
    "           'Web Experience Template', 'Web Map', 'Web Mapping Application', 'Web Scene', 'Workforce Project']\n",
    "\n",
    "Items = []\n",
    "Apps = []\n",
    "\n",
    "# List to store all my Function Results\n",
    "FuncResults = []"
   ]
  },
  {
   "cell_type": "code",
   "execution_count": null,
   "metadata": {},
   "outputs": [],
   "source": [
    "# ***Defining function that will gather the information we need. ***\n",
    "def my_func(connection, item, webapps):\n",
    "    # For some reason script won't pull in certain Urls so try and except added to prevent script breaking.\n",
    "    # If url cant be pulled it will still collect as much as the item info added.\n",
    "    try:\n",
    "        # Item info\n",
    "        item_info = item\n",
    "        find_id = item_info.id\n",
    "        find_url = connection.content.get(find_id).url\n",
    "        item_title = item_info.title\n",
    "        item_owner = item_info.owner\n",
    "        item_type = item_info.type\n",
    "        item_create_date = datetime.datetime.fromtimestamp(round(item_info.created / 1000))\n",
    "        item_modified_date = datetime.datetime.fromtimestamp(round(item_info.modified / 1000))\n",
    "        item_size = item_info.size/1024\n",
    "\n",
    "        # Collects Web maps then Return subset of map IDs which contain the service URL we're looking for\n",
    "        webmaps = connection.content.search('', item_type='Web Map', max_items=-1)\n",
    "        matches = [m.id for m in webmaps if str(m.get_data()).find(find_url) > -1]\n",
    "\n",
    "        # Create empty list to populate with results\n",
    "        app_list = []\n",
    "\n",
    "        # Check each web app for matches\n",
    "        for w in Apps:\n",
    "\n",
    "            try:\n",
    "                # Get the JSON as a string\n",
    "                wdata = str(w.get_data())\n",
    "\n",
    "                criteria = [\n",
    "                    wdata.find(find_url) > -1,  # Check if URL is directly referenced\n",
    "                    any([wdata.find(m) > -1 for m in matches])  # Check if any matching maps are in app\n",
    "                ]\n",
    "\n",
    "                # If layer is referenced directly or indirectly, append app to list\n",
    "                if any(criteria):\n",
    "                    app_list.append(w)\n",
    "\n",
    "            # Some apps don't have data, so we'll just skip them if they throw a TypeError\n",
    "            except:\n",
    "                continue\n",
    "\n",
    "        if len(app_list) > 0:\n",
    "            for a in app_list:\n",
    "                FuncResults.append({'Environment': connection_type, 'Item Name': item_title, 'Item Type': item_type,\n",
    "                                    'Item ID': find_id, 'Item Url': find_url, 'Item Owner': item_owner,\n",
    "                                    'Item Create Date': item_create_date, 'Item Modified Date': item_modified_date,\n",
    "                                    'Item Size (KB)': item_size, 'Application Name': a.title,\n",
    "                                    'Application Type': a.type, 'Application ID': a.id, 'Application Owner': a.owner,\n",
    "                                    'Application Create Date': datetime.datetime.fromtimestamp(round(a.created / 1000)),\n",
    "                                    'Application Modified Date': datetime.datetime.fromtimestamp(round(a.modified / 1000)),\n",
    "                                    'Application Size (KB)': a.size/1024})\n",
    "\n",
    "        if len(app_list) == 0:\n",
    "            FuncResults.append({'Environment': connection_type, 'Item Name': item_title, 'Item Type': item_type,\n",
    "                                'Item ID': find_id, 'Item Url': find_url, 'Item Owner': item_owner,\n",
    "                                'Item Create Date': item_create_date, 'Item Modified Date': item_modified_date,\n",
    "                                'Item Size (KB)': item_size, 'Application Name': 'N/A', 'Application Type': 'N/A',\n",
    "                                'Application ID': 'N/A', 'Application Owner': 'N/A', 'Application Create Date': 'N/A',\n",
    "                                'Application Modified Date': 'N/A', 'Application Size (KB)': 'N/A'})\n",
    "\n",
    "\n",
    "    except:\n",
    "        print(\"Exception found gathering baseline item info.\")\n",
    "        item_info = item\n",
    "        find_id = item_info.id\n",
    "        find_url = connection.content.get(find_id).url\n",
    "        item_title = item_info.title\n",
    "        item_owner = item_info.owner\n",
    "        item_type = item_info.type\n",
    "\n",
    "        FuncResults.append({'Environment': connection_type, 'Item Name': item_title, 'Item Type': item_type,\n",
    "                            'Item ID': find_id, 'Item Url': 'Cant find Url', 'Item Owner': item_owner,\n",
    "                            'Item Create Date': item_create_date, 'Item Modified Date': item_modified_date,\n",
    "                            'Item Size (KB)': item_size, 'Application Name': 'N/A', 'Application Type': 'N/A',\n",
    "                            'Application ID': 'N/A', 'Application Owner': 'N/A', 'Application Create Date': 'N/A',\n",
    "                            'Application Modified Date': 'N/A', 'Application Size (KB)': 'N/A'})\n"
   ]
  },
  {
   "cell_type": "code",
   "execution_count": null,
   "metadata": {},
   "outputs": [],
   "source": [
    "# Combining all Item types into a single list\n",
    "print('Collecting Item Data!')\n",
    "for i in ItemList:\n",
    "    Temp = connection.content.search('', item_type=i, max_items=-1)\n",
    "    \n",
    "    if len(Temp) > 0:\n",
    "        for t in Temp:\n",
    "            Items.append(t)\n",
    "\n",
    "print('You have ' + str(len(Items)) + 'items in your enviroment')\n",
    "print('Collected Item Data!')"
   ]
  },
  {
   "cell_type": "code",
   "execution_count": null,
   "metadata": {},
   "outputs": [],
   "source": [
    "print('Collecting Application Data..')\n",
    "\n",
    "# Combining all Apps into a single list\n",
    "\n",
    "for al in AppList:\n",
    "    Temp = connection.content.search('', item_type=al, max_items=-1)\n",
    "    if len(Temp) > 0:\n",
    "        for t in Temp:\n",
    "            Apps.append(t)\n",
    "            \n",
    "print('You have ' + str(len(Apps)) + 'apps in your enviroment')\n",
    "print('Collected Application Data!')"
   ]
  },
  {
   "cell_type": "code",
   "execution_count": null,
   "metadata": {},
   "outputs": [],
   "source": [
    "print('Starting Items')\n",
    "for i in Items:\n",
    "    print('working on ' + str(i.title))\n",
    "    my_func(connection, i, Apps)\n",
    "print('Finished Items')"
   ]
  },
  {
   "cell_type": "code",
   "execution_count": null,
   "metadata": {},
   "outputs": [],
   "source": [
    "# Creating dataframe\n",
    "print('Creating Data Frame')\n",
    "\n",
    "df = pd.DataFrame(FuncResults)\n",
    "\n",
    "# Sorting by Url with Portal items on top of AGOL\n",
    "df1 = df.sort_values(by=['Item Url'], ascending=[True])\n",
    "# Reindexing\n",
    "df2 = df1.reset_index(drop=True)\n",
    "\n",
    "# Creating Mask that will put a line of separation between each Item\n",
    "mask = df2['Item Url'].ne(df2['Item Url'].shift(-1))\n",
    "df3 = pd.DataFrame('', index=mask.index[mask] + .5, columns=df.columns)\n",
    "\n",
    "# Creating the Final Dataframe.\n",
    "new_df = pd.concat([df2, df3]).sort_index().reset_index(drop=True).iloc[:-1]\n",
    "print('Finished Data Frame')\n",
    "# Exporting Dataframe to excel\n",
    "print('Exporting to Excel')\n",
    "new_df.to_excel(ExcelOutput, index=False)\n",
    "print('Finished')"
   ]
  },
  {
   "cell_type": "code",
   "execution_count": null,
   "metadata": {},
   "outputs": [],
   "source": []
  }
 ],
 "metadata": {
  "kernelspec": {
   "display_name": "ArcGISPro",
   "language": "Python",
   "name": "python3"
  },
  "language_info": {
   "file_extension": ".py",
   "name": "python",
   "version": "3"
  }
 },
 "nbformat": 4,
 "nbformat_minor": 2
}
